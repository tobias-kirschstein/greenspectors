{
 "cells": [
  {
   "cell_type": "markdown",
   "id": "b280dbe7-ac9f-4fcf-bf4d-31ba40452329",
   "metadata": {},
   "source": [
    "3325328 Tweets in total"
   ]
  },
  {
   "cell_type": "code",
   "execution_count": 25,
   "id": "79cbd554-8e75-47ff-91da-1345caabf396",
   "metadata": {},
   "outputs": [],
   "source": [
    "import pandas as pd\n",
    "\n",
    "from collections import defaultdict\n",
    "from tqdm import tqdm\n",
    "\n",
    "from greenspectors.data.twitter_archive_data_loader import TwitterArchiveDataLoader\n",
    "from greenspectors.env import KEYWORDS, COMPANY_NAMES, SYNONYMS, COMPANY_SPECIFIC_ACTIONS, DATA_PATH"
   ]
  },
  {
   "cell_type": "markdown",
   "id": "5ac70dad-1c7b-4601-985f-0fb13e8a223c",
   "metadata": {},
   "source": [
    "# 1. Load scraped Twitter Archive Data"
   ]
  },
  {
   "cell_type": "code",
   "execution_count": 4,
   "id": "660f3736-494b-451a-901c-a06b0f9a5267",
   "metadata": {},
   "outputs": [],
   "source": [
    "data_loader = TwitterArchiveDataLoader()"
   ]
  },
  {
   "cell_type": "code",
   "execution_count": 6,
   "id": "3ac6fbbc-d2a9-4c98-a9c7-8fb9ae4fd53b",
   "metadata": {},
   "outputs": [
    {
     "data": {
      "text/plain": [
       "{'created_at': 'Mon Jun 01 06:53:01 +0000 2020',\n",
       " 'id': 1267348409419214849,\n",
       " 'id_str': '1267348409419214849',\n",
       " 'text': 'RT @jasontoff: I work at Facebook and I am not proud of how we’re showing up. The majority of coworkers I’ve spoken to feel the same way. W…',\n",
       " 'source': '<a href=\"https://mobile.twitter.com\" rel=\"nofollow\">Twitter Web App</a>',\n",
       " 'truncated': False,\n",
       " 'in_reply_to_status_id': None,\n",
       " 'in_reply_to_status_id_str': None,\n",
       " 'in_reply_to_user_id': None,\n",
       " 'in_reply_to_user_id_str': None,\n",
       " 'in_reply_to_screen_name': None,\n",
       " 'user': {'id': 202007411,\n",
       "  'id_str': '202007411',\n",
       "  'name': 'IBookery',\n",
       "  'screen_name': 'ibookery',\n",
       "  'location': 'New York, NY',\n",
       "  'url': None,\n",
       "  'description': None,\n",
       "  'translator_type': 'none',\n",
       "  'protected': False,\n",
       "  'verified': False,\n",
       "  'followers_count': 2972,\n",
       "  'friends_count': 3011,\n",
       "  'listed_count': 112,\n",
       "  'favourites_count': 792370,\n",
       "  'statuses_count': 124683,\n",
       "  'created_at': 'Wed Oct 13 03:00:29 +0000 2010',\n",
       "  'utc_offset': None,\n",
       "  'time_zone': None,\n",
       "  'geo_enabled': True,\n",
       "  'lang': None,\n",
       "  'contributors_enabled': False,\n",
       "  'is_translator': False,\n",
       "  'profile_background_color': 'C0DEED',\n",
       "  'profile_background_image_url': 'http://abs.twimg.com/images/themes/theme1/bg.png',\n",
       "  'profile_background_image_url_https': 'https://abs.twimg.com/images/themes/theme1/bg.png',\n",
       "  'profile_background_tile': False,\n",
       "  'profile_link_color': '1DA1F2',\n",
       "  'profile_sidebar_border_color': 'C0DEED',\n",
       "  'profile_sidebar_fill_color': 'DDEEF6',\n",
       "  'profile_text_color': '333333',\n",
       "  'profile_use_background_image': True,\n",
       "  'profile_image_url': 'http://pbs.twimg.com/profile_images/1191743325/flickr_MRP_avatar_normal.jpg',\n",
       "  'profile_image_url_https': 'https://pbs.twimg.com/profile_images/1191743325/flickr_MRP_avatar_normal.jpg',\n",
       "  'default_profile': True,\n",
       "  'default_profile_image': False,\n",
       "  'following': None,\n",
       "  'follow_request_sent': None,\n",
       "  'notifications': None},\n",
       " 'geo': None,\n",
       " 'coordinates': None,\n",
       " 'place': None,\n",
       " 'contributors': None,\n",
       " 'retweeted_status': {'created_at': 'Mon Jun 01 04:55:43 +0000 2020',\n",
       "  'id': 1267318891203530752,\n",
       "  'id_str': '1267318891203530752',\n",
       "  'text': 'I work at Facebook and I am not proud of how we’re showing up. The majority of coworkers I’ve spoken to feel the sa… https://t.co/Vn6SXfcurj',\n",
       "  'source': '<a href=\"http://twitter.com/download/iphone\" rel=\"nofollow\">Twitter for iPhone</a>',\n",
       "  'truncated': True,\n",
       "  'in_reply_to_status_id': None,\n",
       "  'in_reply_to_status_id_str': None,\n",
       "  'in_reply_to_user_id': None,\n",
       "  'in_reply_to_user_id_str': None,\n",
       "  'in_reply_to_screen_name': None,\n",
       "  'user': {'id': 6562172,\n",
       "   'id_str': '6562172',\n",
       "   'name': 'Jason Toff',\n",
       "   'screen_name': 'jasontoff',\n",
       "   'location': 'Menlo Park, CA',\n",
       "   'url': 'http://jasontoff.com',\n",
       "   'description': 'Building something new @facebook. Previously: Google / Vine / Twitter  / YouTube / Gmail / Chrome. Angel investor.',\n",
       "   'translator_type': 'regular',\n",
       "   'protected': False,\n",
       "   'verified': True,\n",
       "   'followers_count': 17141,\n",
       "   'friends_count': 1422,\n",
       "   'listed_count': 332,\n",
       "   'favourites_count': 17838,\n",
       "   'statuses_count': 16762,\n",
       "   'created_at': 'Mon Jun 04 04:11:53 +0000 2007',\n",
       "   'utc_offset': None,\n",
       "   'time_zone': None,\n",
       "   'geo_enabled': True,\n",
       "   'lang': None,\n",
       "   'contributors_enabled': False,\n",
       "   'is_translator': False,\n",
       "   'profile_background_color': '000000',\n",
       "   'profile_background_image_url': 'http://abs.twimg.com/images/themes/theme14/bg.gif',\n",
       "   'profile_background_image_url_https': 'https://abs.twimg.com/images/themes/theme14/bg.gif',\n",
       "   'profile_background_tile': False,\n",
       "   'profile_link_color': '34282C',\n",
       "   'profile_sidebar_border_color': '000000',\n",
       "   'profile_sidebar_fill_color': '000000',\n",
       "   'profile_text_color': '000000',\n",
       "   'profile_use_background_image': False,\n",
       "   'profile_image_url': 'http://pbs.twimg.com/profile_images/1197207829813194752/FLlzQ9ha_normal.jpg',\n",
       "   'profile_image_url_https': 'https://pbs.twimg.com/profile_images/1197207829813194752/FLlzQ9ha_normal.jpg',\n",
       "   'profile_banner_url': 'https://pbs.twimg.com/profile_banners/6562172/1574271574',\n",
       "   'default_profile': False,\n",
       "   'default_profile_image': False,\n",
       "   'following': None,\n",
       "   'follow_request_sent': None,\n",
       "   'notifications': None},\n",
       "  'geo': None,\n",
       "  'coordinates': None,\n",
       "  'place': None,\n",
       "  'contributors': None,\n",
       "  'is_quote_status': False,\n",
       "  'extended_tweet': {'full_text': 'I work at Facebook and I am not proud of how we’re showing up. The majority of coworkers I’ve spoken to feel the same way. We are making our voice heard.',\n",
       "   'display_text_range': [0, 153],\n",
       "   'entities': {'hashtags': [],\n",
       "    'urls': [],\n",
       "    'user_mentions': [],\n",
       "    'symbols': []}},\n",
       "  'quote_count': 276,\n",
       "  'reply_count': 1008,\n",
       "  'retweet_count': 2844,\n",
       "  'favorite_count': 23220,\n",
       "  'entities': {'hashtags': [],\n",
       "   'urls': [{'url': 'https://t.co/Vn6SXfcurj',\n",
       "     'expanded_url': 'https://twitter.com/i/web/status/1267318891203530752',\n",
       "     'display_url': 'twitter.com/i/web/status/1…',\n",
       "     'indices': [117, 140]}],\n",
       "   'user_mentions': [],\n",
       "   'symbols': []},\n",
       "  'favorited': False,\n",
       "  'retweeted': False,\n",
       "  'filter_level': 'low',\n",
       "  'lang': 'en'},\n",
       " 'is_quote_status': False,\n",
       " 'quote_count': 0,\n",
       " 'reply_count': 0,\n",
       " 'retweet_count': 0,\n",
       " 'favorite_count': 0,\n",
       " 'entities': {'hashtags': [],\n",
       "  'urls': [],\n",
       "  'user_mentions': [{'screen_name': 'jasontoff',\n",
       "    'name': 'Jason Toff',\n",
       "    'id': 6562172,\n",
       "    'id_str': '6562172',\n",
       "    'indices': [3, 13]}],\n",
       "  'symbols': []},\n",
       " 'favorited': False,\n",
       " 'retweeted': False,\n",
       " 'filter_level': 'low',\n",
       " 'lang': 'en',\n",
       " 'timestamp_ms': '1590994381657'}"
      ]
     },
     "execution_count": 6,
     "metadata": {},
     "output_type": "execute_result"
    }
   ],
   "source": [
    "tweet = next(iter(data_loader))\n",
    "tweet"
   ]
  },
  {
   "cell_type": "markdown",
   "id": "41d1f39c-5a08-4c17-b04b-225df3196d3e",
   "metadata": {},
   "source": [
    "# 2. Only keep tweets that contain certain keywords\n",
    "\n",
    "Filtering approach:\n",
    "\n",
    "1. Filter for general keywords\n",
    "2. Filter for Company name + \"Sustainability\""
   ]
  },
  {
   "cell_type": "code",
   "execution_count": 7,
   "id": "f7f2e57a-a929-46aa-9a86-7dfa0297a10f",
   "metadata": {},
   "outputs": [],
   "source": [
    "def parse_tweet(tweet):\n",
    "    tweet_data = dict()\n",
    "    \n",
    "    retweet = 'retweeted_status' in tweet\n",
    "    \n",
    "    tweet_data['id'] = tweet['id']\n",
    "    tweet_data['created_at'] = tweet['created_at']\n",
    "    tweet_data['user_id'] = tweet['user']['id']\n",
    "    tweet_data['username'] = tweet['user']['screen_name']\n",
    "    tweet_data['name'] = tweet['user']['name']\n",
    "    tweet_data['place'] = tweet['user']['location']\n",
    "    if retweet and 'extended_tweet' in tweet['retweeted_status'] and 'full_text' in tweet['retweeted_status']['extended_tweet']:\n",
    "        tweet_data['tweet'] = tweet['retweeted_status']['extended_tweet']['full_text']\n",
    "    else:\n",
    "        tweet_data['tweet'] = tweet['text']\n",
    "    tweet_data['language'] = tweet['lang']\n",
    "    tweet_data['mentions'] = tweet['entities']['user_mentions']\n",
    "    tweet_data['urls'] = tweet['entities']['urls']\n",
    "    tweet_data['replies_count'] = tweet['reply_count']\n",
    "    tweet_data['retweet_count'] = tweet['retweet_count']\n",
    "    tweet_data['likes_count'] = tweet['favorite_count']\n",
    "    tweet_data['hashtags'] = tweet['entities']['hashtags']\n",
    "    tweet_data['retweet'] = retweet\n",
    "    tweet_data['retweet_id'] = tweet['retweeted_status']['id'] if retweet else None\n",
    "    \n",
    "    return tweet_data\n",
    "    \n",
    "    \n",
    "    "
   ]
  },
  {
   "cell_type": "code",
   "execution_count": 17,
   "id": "d8ce3bb3-bccb-47be-ab3b-16a54628f76b",
   "metadata": {},
   "outputs": [],
   "source": [
    "def process_tweet(tweet):\n",
    "    tweet_text = tweet['tweet'].lower()\n",
    "    \n",
    "    # 1. For every keyword, check whether the tweet belongs to te respective category\n",
    "    for keyword, keyword_synonyms in KEYWORDS.items():\n",
    "        keyword_present = False\n",
    "        for keyword_synonym in [keyword] + keyword_synonyms:\n",
    "            keyword_parts = keyword_synonym.split(' ')\n",
    "            all_keyword_parts_present = all([keyword_part.lower() in tweet_text for keyword_part in keyword_parts])\n",
    "            if all_keyword_parts_present:\n",
    "                keyword_present = True\n",
    "                break\n",
    "        \n",
    "        if keyword_present:\n",
    "            keyword_datasets[keyword].append(tweet)\n",
    "            \n",
    "    # 2. Filter for Company name + \"sustainability\"\n",
    "    for company_name in COMPANY_NAMES:\n",
    "        company_mentioned = False\n",
    "        for company_synonym in [company_name] + SYNONYMS[company_name]:\n",
    "            if company_synonym.lower() in tweet_text:\n",
    "                company_mentioned = True\n",
    "                \n",
    "        if company_mentioned:\n",
    "            sustainability_mentioned = False\n",
    "            for sustainability_synonym in [\"sustainability\"] + KEYWORDS[\"sustainability\"]:\n",
    "                if sustainability_synonym.lower() in tweet_text:\n",
    "                    sustainability_mentioned = True\n",
    "                    break\n",
    "\n",
    "            if sustainability_mentioned:\n",
    "                company_sustainability_datasets[company_name].append(tweet)\n",
    "                break\n",
    "                \n",
    "            if company_name in COMPANY_SPECIFIC_ACTIONS:\n",
    "                action_mentioned = False\n",
    "                for action in COMPANY_SPECIFIC_ACTIONS[company_name]:\n",
    "                    if action.lower() in tweet_text:\n",
    "                        action_mentioned = True\n",
    "                        break\n",
    "                \n",
    "                if action_mentioned:\n",
    "                    company_actions_datasets[company_name].append(tweet)"
   ]
  },
  {
   "cell_type": "markdown",
   "id": "781b7df1-3a33-4a20-b397-e19378ba54db",
   "metadata": {},
   "source": [
    "# 3. Filter dataset"
   ]
  },
  {
   "cell_type": "code",
   "execution_count": 18,
   "id": "ca05c2db-0885-4af5-832d-794497526f5a",
   "metadata": {},
   "outputs": [
    {
     "name": "stderr",
     "output_type": "stream",
     "text": [
      "3325328it [14:19, 3870.80it/s]\n"
     ]
    }
   ],
   "source": [
    "keyword_datasets = defaultdict(list)\n",
    "company_sustainability_datasets = defaultdict(list)\n",
    "company_actions_datasets = defaultdict(list)\n",
    "\n",
    "for tweet in tqdm(data_loader):\n",
    "    tweet_data = parse_tweet(tweet)\n",
    "    process_tweet(tweet_data)\n",
    "    if tweet_data['retweet']:\n",
    "        retweet_data = parse_tweet(tweet['retweeted_status'])\n",
    "        process_tweet(retweet_data)"
   ]
  },
  {
   "cell_type": "code",
   "execution_count": 19,
   "id": "dc835cbf-a6c3-4af1-9440-6ac44c984206",
   "metadata": {},
   "outputs": [
    {
     "name": "stdout",
     "output_type": "stream",
     "text": [
      "renewable energy: \t 5336\n",
      "sustainability: \t 4407\n",
      "carbon: \t 4129\n",
      "the climate pledge: \t 53\n",
      "global warming: \t 2013\n",
      "protect forests: \t 637\n",
      "fully-electric delivery: \t 34\n",
      "reduce carbon emission: \t 349\n",
      "net zero carbon: \t 495\n",
      "climate pledge fund: \t 19\n"
     ]
    }
   ],
   "source": [
    "for keyword, dataset in keyword_datasets.items():\n",
    "    print(f\"{keyword}: \\t {len(dataset)}\")"
   ]
  },
  {
   "cell_type": "code",
   "execution_count": 20,
   "id": "ab5b580b-aebe-447d-a52c-801a3f9b3e91",
   "metadata": {},
   "outputs": [
    {
     "name": "stdout",
     "output_type": "stream",
     "text": [
      "General Motors: \t 690\n",
      "Cisco: \t 66\n",
      "Facebook: \t 573\n",
      "Ford: \t 807\n",
      "Wells Fargo: \t 19\n",
      "Blackrock: \t 104\n",
      "Amazon: \t 288\n",
      "Apple: \t 152\n",
      "Google: \t 103\n",
      "Visa: \t 77\n",
      "Samsung: \t 39\n",
      "Walt Disney: \t 38\n",
      "Morgan Stanley: \t 7\n",
      "Exxon Mobile: \t 56\n",
      "Oracle: \t 26\n",
      "Microsoft: \t 213\n",
      "PepsiCo: \t 21\n",
      "Chevron: \t 142\n",
      "BASF: \t 3\n",
      "JetBlue: \t 3\n",
      "JP Morgan: \t 25\n",
      "Siemens: \t 26\n",
      "Unilever: \t 17\n",
      "Boeing: \t 19\n",
      "Johnson Johnson: \t 6\n",
      "Bank of America: \t 9\n",
      "Mastercard: \t 11\n",
      "TD Bank: \t 1\n"
     ]
    }
   ],
   "source": [
    "for company, dataset in company_sustainability_datasets.items():\n",
    "    print(f\"{company}: \\t {len(dataset)}\")"
   ]
  },
  {
   "cell_type": "code",
   "execution_count": 21,
   "id": "57a20d04-9104-49be-9efc-7b28a0b848fc",
   "metadata": {},
   "outputs": [
    {
     "name": "stdout",
     "output_type": "stream",
     "text": [
      "Facebook: \t 1525\n",
      "Amazon: \t 29\n",
      "General Motors: \t 364\n",
      "Ford: \t 2638\n",
      "Walt Disney: \t 237\n",
      "Unilever: \t 19\n",
      "Johnson Johnson: \t 117\n",
      "Morgan Stanley: \t 11\n",
      "Microsoft: \t 49\n",
      "Apple: \t 76\n",
      "Siemens: \t 5\n",
      "Exxon Mobile: \t 117\n",
      "Cisco: \t 7\n",
      "Wells Fargo: \t 3\n",
      "Oracle: \t 2\n",
      "Chevron: \t 119\n",
      "Mc Donalds: \t 4\n",
      "PepsiCo: \t 3\n",
      "Samsung: \t 12\n",
      "Mastercard: \t 17\n",
      "JetBlue: \t 3\n",
      "TD Bank: \t 1\n",
      "Boeing: \t 1\n"
     ]
    }
   ],
   "source": [
    "for company, dataset in company_actions_datasets.items():\n",
    "    print(f\"{company}: \\t {len(dataset)}\")"
   ]
  },
  {
   "cell_type": "markdown",
   "id": "a4e331b9-c48d-497e-97a2-fa1fe591ad14",
   "metadata": {},
   "source": [
    "# 4. Save Company-Action datasets"
   ]
  },
  {
   "cell_type": "code",
   "execution_count": 26,
   "id": "aa804f53-f4fe-4f84-bc16-df818c0bad0b",
   "metadata": {},
   "outputs": [],
   "source": [
    "for company, company_action_dataset in company_actions_datasets.items():\n",
    "    pd.DataFrame(company_action_dataset).to_csv(f\"{DATA_PATH}/Twitter Dataset/Company + Action/{company}.csv\", sep='\\t', index=False)"
   ]
  },
  {
   "cell_type": "markdown",
   "id": "46dd443b-f61f-41e2-809d-c0db75de227b",
   "metadata": {},
   "source": [
    "# 5. Merge Data with data from twint"
   ]
  },
  {
   "cell_type": "code",
   "execution_count": 87,
   "id": "1a51100a-7e38-4247-bd3e-bf9d2d86df2d",
   "metadata": {},
   "outputs": [],
   "source": [
    "def deduplicate(combined_df):\n",
    "    # Drop ID duplicates and aggregate counts for likes, retweets, etc...\n",
    "    deduplicated_id = combined_df.drop_duplicates(subset=['id'])\n",
    "    merged_retweets = deduplicated_id.groupby('tweet', as_index=False)\n",
    "    \n",
    "    agg_config = dict.fromkeys(deduplicated_id.columns, 'first')\n",
    "\n",
    "    del agg_config['tweet']\n",
    "    agg_config['created_at'] = 'min'\n",
    "    agg_config['date'] = 'min'\n",
    "    agg_config['time'] = 'min'\n",
    "    agg_config['timezone'] = 'min'\n",
    "    agg_config['replies_count'] = 'sum'\n",
    "    agg_config['retweet_count'] = 'sum'\n",
    "    agg_config['likes_count'] = 'sum'\n",
    "    agg_config['likes_count'] = 'sum'\n",
    "    \n",
    "    aggregated = merged_retweets.agg(agg_config)\n",
    "    \n",
    "    return aggregated"
   ]
  },
  {
   "cell_type": "markdown",
   "id": "831d37ee-eef1-4066-94f7-c7c42abe18a1",
   "metadata": {},
   "source": [
    "## 5.1. Keyword datasets"
   ]
  },
  {
   "cell_type": "code",
   "execution_count": 28,
   "id": "d9b0972e-8cb0-4c4a-a3f6-4dc7f2647d25",
   "metadata": {},
   "outputs": [],
   "source": [
    "# Some files are named slightly different\n",
    "KEYWORD_MATCHING = {\n",
    "    \"fully-electric delivery\": \"fully-electric_delivery_vehicles\",\n",
    "    \"protect forests\": \"protect forests\",\n",
    "    \"reduce carbon emission\": \"reduce_carbon_emissions\"\n",
    "}"
   ]
  },
  {
   "cell_type": "code",
   "execution_count": 30,
   "id": "180e192c-fd79-4b4a-9237-c80d05a541b2",
   "metadata": {},
   "outputs": [],
   "source": [
    "SEARCH_TERM_DATA_PATH = f\"{DATA_PATH}/TweetsWithGivenSearchTerm_Tashko\""
   ]
  },
  {
   "cell_type": "code",
   "execution_count": 86,
   "id": "476ef6a2-ee46-49e2-9daa-0d256a81b6fa",
   "metadata": {},
   "outputs": [
    {
     "name": "stdout",
     "output_type": "stream",
     "text": [
      "carbon: 133323 + 4129\n",
      "sustainability: 47117 + 4407\n",
      "climate pledge fund: 40 + 19\n",
      "the climate pledge: 769 + 53\n",
      "global warming: 24222 + 2013\n",
      "fully-electric delivery: 22 + 34\n",
      "net zero carbon: 1973 + 495\n",
      "protect forests: 1560 + 637\n",
      "reduce carbon emission: 1315 + 349\n",
      "renewable energy: 19612 + 5336\n"
     ]
    }
   ],
   "source": [
    "for keyword in KEYWORDS.keys():\n",
    "    try: \n",
    "        df = pd.read_csv(f\"{SEARCH_TERM_DATA_PATH}/file_{keyword.replace(' ', '_')}.csv\", delimiter=\"\\t\")\n",
    "    except Exception as e:\n",
    "        df = pd.read_csv(f\"{SEARCH_TERM_DATA_PATH}/file_{KEYWORD_MATCHING[keyword]}.csv\", delimiter=\"\\t\")\n",
    "        \n",
    "    if 'retweets_count' in df.columns:\n",
    "        df = df.rename(columns={'retweets_count': 'retweet_count'})\n",
    "        \n",
    "    print(f\"{keyword}: {len(df)} + {len(keyword_datasets[keyword])}\")\n",
    "    \n",
    "    combined_df = pd.concat([df, pd.DataFrame(keyword_datasets[keyword])])\n",
    "    assert len(combined_df.columns) == 36, \"Not 36 columns. Maybe a column name mismatch?\"\n",
    "    \n",
    "    aggregated = deduplicate(combined_df)\n",
    "    \n",
    "    aggregated.to_csv(f\"{DATA_PATH}/Twitter Dataset/Keyword/{keyword}.csv\", sep='\\t', index=False)\n",
    "    "
   ]
  },
  {
   "cell_type": "markdown",
   "id": "efc2f3d2-8a7f-4c7c-8ca5-44b7ff66ecfa",
   "metadata": {},
   "source": [
    "## 5.2. Company + Sustainability datasets"
   ]
  },
  {
   "cell_type": "code",
   "execution_count": 37,
   "id": "2c676bfc-e404-41c9-a88d-c24103f8a599",
   "metadata": {},
   "outputs": [],
   "source": [
    "COMPANY_MATCHING = {\n",
    "    'Exxon Mobile': 'Exxon',\n",
    "    'Mc Donalds': 'McDonalds',\n",
    "    'Walt Disney': 'WaltDisney',\n",
    "    'TD Bank': 'TDBank'\n",
    "}"
   ]
  },
  {
   "cell_type": "code",
   "execution_count": 88,
   "id": "2bc281ca-0be2-4830-a176-c493968cce5d",
   "metadata": {},
   "outputs": [
    {
     "name": "stdout",
     "output_type": "stream",
     "text": [
      "Amazon: 164 + 288\n",
      "Apple: 55 + 152\n",
      "Bank of America: 80 + 9\n",
      "BASF: 60 + 3\n",
      "Blackrock: 60 + 104\n",
      "Boeing: 9 + 19\n",
      "Chevron: 21 + 142\n",
      "Cisco: 153 + 66\n",
      "Exxon Mobile: 228 + 56\n",
      "Facebook: 188 + 573\n",
      "Ford: 60 + 807\n",
      "General Motors: 3 + 690\n",
      "Google: 401 + 103\n",
      "Honeywell: 30 + 0\n",
      "JetBlue: 60 + 3\n",
      "Johnson Johnson: 118 + 6\n",
      "JP Morgan: 24 + 25\n",
      "Mastercard: 140 + 11\n",
      "Mc Donalds: 64 + 0\n",
      "Microsoft: 285 + 213\n",
      "Morgan Stanley: 40 + 7\n",
      "Oracle: 94 + 26\n",
      "PepsiCo: 120 + 21\n",
      "Samsung: 40 + 39\n",
      "Siemens: 113 + 26\n",
      "TD Bank: 20 + 1\n",
      "Unilever: 24 + 17\n",
      "Visa: 20 + 77\n",
      "Walt Disney: 2 + 38\n",
      "Wells Fargo: 20 + 19\n"
     ]
    }
   ],
   "source": [
    "for company in COMPANY_NAMES:\n",
    "    try: \n",
    "        df = pd.read_csv(f\"{SEARCH_TERM_DATA_PATH}/file_{company.replace(' ', '_')}_Sustainability.csv\", delimiter=\"\\t\")\n",
    "    except Exception as e:\n",
    "        df = pd.read_csv(f\"{SEARCH_TERM_DATA_PATH}/file_{COMPANY_MATCHING[company]}_Sustainability.csv\", delimiter=\"\\t\")\n",
    "        \n",
    "    if 'retweets_count' in df.columns:\n",
    "        df = df.rename(columns={'retweets_count': 'retweet_count'})\n",
    "        \n",
    "    print(f\"{company}: {len(df)} + {len(company_sustainability_datasets[company])}\")\n",
    "    \n",
    "    combined_df = pd.concat([df, pd.DataFrame(company_sustainability_datasets[keyword])])\n",
    "    assert len(combined_df.columns) == 36, \"Not 36 columns. Maybe a column name mismatch?\"\n",
    "    \n",
    "    aggregated = deduplicate(combined_df)\n",
    "    \n",
    "    aggregated.to_csv(f\"{DATA_PATH}/Twitter Dataset/Company + Sustainability/{company}_Sustainability.csv\", sep='\\t', index=False)\n",
    "    "
   ]
  }
 ],
 "metadata": {
  "kernelspec": {
   "display_name": "Python 3 (ipykernel)",
   "language": "python",
   "name": "python3"
  },
  "language_info": {
   "codemirror_mode": {
    "name": "ipython",
    "version": 3
   },
   "file_extension": ".py",
   "mimetype": "text/x-python",
   "name": "python",
   "nbconvert_exporter": "python",
   "pygments_lexer": "ipython3",
   "version": "3.8.12"
  }
 },
 "nbformat": 4,
 "nbformat_minor": 5
}
