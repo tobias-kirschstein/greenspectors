{
 "cells": [
  {
   "cell_type": "code",
   "execution_count": 25,
   "id": "2c861216-a399-4ed6-a34f-b8804b9f798b",
   "metadata": {},
   "outputs": [],
   "source": [
    "import pandas as pd\n",
    "from collections import defaultdict\n",
    "from sklearn.metrics import f1_score, precision_score, recall_score, accuracy_score\n",
    "\n",
    "from greenspectors.models.flair import FlairSentimentAnalyzer\n",
    "from greenspectors.models.vader import VaderSentimentAnalyzer\n",
    "from greenspectors.models.sentiment_analysis import Sentiment\n",
    "from greenspectors.env import DATA_PATH"
   ]
  },
  {
   "cell_type": "code",
   "execution_count": 3,
   "id": "ab9e87f3-d89f-48d7-b7b1-189e62fd8699",
   "metadata": {},
   "outputs": [
    {
     "name": "stdout",
     "output_type": "stream",
     "text": [
      "2021-10-16 19:18:34,386 https://nlp.informatik.hu-berlin.de/resources/models/sentiment-curated-distilbert/sentiment-en-mix-distillbert_4.pt not found in cache, downloading to C:\\Users\\Tobias\\AppData\\Local\\Temp\\tmpimqtup33\n"
     ]
    },
    {
     "name": "stderr",
     "output_type": "stream",
     "text": [
      "100%|████████████████████████████████████████████████████████████████████████████████████████████████████████████████████████████████████████████████████████████████████████████████████████████████| 265512723/265512723 [01:09<00:00, 3821443.90B/s]"
     ]
    },
    {
     "name": "stdout",
     "output_type": "stream",
     "text": [
      "2021-10-16 19:19:43,968 copying C:\\Users\\Tobias\\AppData\\Local\\Temp\\tmpimqtup33 to cache at C:\\Users\\Tobias\\.flair\\models\\sentiment-en-mix-distillbert_4.pt\n"
     ]
    },
    {
     "name": "stderr",
     "output_type": "stream",
     "text": [
      "\n"
     ]
    },
    {
     "name": "stdout",
     "output_type": "stream",
     "text": [
      "2021-10-16 19:19:44,112 removing temp file C:\\Users\\Tobias\\AppData\\Local\\Temp\\tmpimqtup33\n",
      "2021-10-16 19:19:44,139 loading file C:\\Users\\Tobias\\.flair\\models\\sentiment-en-mix-distillbert_4.pt\n"
     ]
    },
    {
     "data": {
      "application/vnd.jupyter.widget-view+json": {
       "model_id": "5bd75f04291c4c1a8666008dfb8398ae",
       "version_major": 2,
       "version_minor": 0
      },
      "text/plain": [
       "Downloading:   0%|          | 0.00/28.0 [00:00<?, ?B/s]"
      ]
     },
     "metadata": {},
     "output_type": "display_data"
    },
    {
     "data": {
      "application/vnd.jupyter.widget-view+json": {
       "model_id": "ad445804c990498b9e0fe5cb10f37f6b",
       "version_major": 2,
       "version_minor": 0
      },
      "text/plain": [
       "Downloading:   0%|          | 0.00/226k [00:00<?, ?B/s]"
      ]
     },
     "metadata": {},
     "output_type": "display_data"
    },
    {
     "data": {
      "application/vnd.jupyter.widget-view+json": {
       "model_id": "52755cc8780c4e3291969be4bd9fc406",
       "version_major": 2,
       "version_minor": 0
      },
      "text/plain": [
       "Downloading:   0%|          | 0.00/455k [00:00<?, ?B/s]"
      ]
     },
     "metadata": {},
     "output_type": "display_data"
    },
    {
     "data": {
      "application/vnd.jupyter.widget-view+json": {
       "model_id": "04c757feac88474e8cb697987adf90b8",
       "version_major": 2,
       "version_minor": 0
      },
      "text/plain": [
       "Downloading:   0%|          | 0.00/483 [00:00<?, ?B/s]"
      ]
     },
     "metadata": {},
     "output_type": "display_data"
    },
    {
     "name": "stderr",
     "output_type": "stream",
     "text": [
      "[nltk_data] Downloading package vader_lexicon to\n",
      "[nltk_data]     C:\\Users\\Tobias\\AppData\\Roaming\\nltk_data...\n"
     ]
    }
   ],
   "source": [
    "flair_sentiment_analyzer = FlairSentimentAnalyzer()\n",
    "vader_sentiment_analyzer = VaderSentimentAnalyzer()\n",
    "\n",
    "sentiment_analyzers = {\n",
    "    \"Flair\": flair_sentiment_analyzer, \n",
    "    \"Vader\": vader_sentiment_analyzer\n",
    "}"
   ]
  },
  {
   "cell_type": "code",
   "execution_count": null,
   "id": "2e3474c1-67b0-4cbc-bf27-f5f03fc8351a",
   "metadata": {},
   "outputs": [],
   "source": [
    "tweets_positive = [\n",
    "    \"\"\"Great panel discussion around the topic of #Sustainability and #netzero energy!Brilliant presentation and input from @OliviaWhitlam on #siemens sustainability strategy and journey to achieving netzero carbon.some key messages byall #collaboration #transition #trust #transparency\"\"\"\n",
    "]"
   ]
  },
  {
   "cell_type": "code",
   "execution_count": null,
   "id": "175673ba-3bae-4037-a3a6-cccaf0147cde",
   "metadata": {},
   "outputs": [],
   "source": [
    "tweets_negative = [\n",
    "    \"\"\"What a greenwash. Siemens are still helping Adani build a massive thermal coal mine in Australia. https://reuters.com/article/us-sie\"\"\",\n",
    "    \"\"\"Activists in Germany protest against new dams in the #Amazon. @Siemens: Green innovation, not Amazon destruction!\"\"\",\n",
    "    \"\"\"@Siemens u love green tech. and we love the Amazon. Innovation is not forest destruction.#saveTheAmazon #StopSiemens\"\"\"\n",
    "]"
   ]
  },
  {
   "cell_type": "code",
   "execution_count": 17,
   "id": "88ad7285-ad5d-4165-81df-64a03df78084",
   "metadata": {},
   "outputs": [
    {
     "name": "stdout",
     "output_type": "stream",
     "text": [
      "========================\n",
      "Flair\n",
      "========================\n",
      "Positive:\n",
      "\t (<Sentiment.POSITIVE: 1>, 0.9973779916763306)\n",
      "Negative:\n",
      "\t (<Sentiment.NEGATIVE: 3>, -0.6935323476791382)\n",
      "\t (<Sentiment.POSITIVE: 1>, 0.6526410579681396)\n",
      "\t (<Sentiment.POSITIVE: 1>, 0.9387254118919373)\n",
      "\n",
      "========================\n",
      "Vader\n",
      "========================\n",
      "Positive:\n",
      "\t (<Sentiment.POSITIVE: 1>, 0.6588)\n",
      "Negative:\n",
      "\t (<Sentiment.NEUTRAL: 2>, -0.1531)\n",
      "\t (<Sentiment.POSITIVE: 1>, 0.5223)\n",
      "\t (<Sentiment.POSITIVE: 1>, 0.9136)\n",
      "\n"
     ]
    }
   ],
   "source": [
    "for analyzer_name, sentiment_analyzer in sentiment_analyzers.items():\n",
    "    print(\"========================\")\n",
    "    print(analyzer_name)\n",
    "    print(\"========================\")\n",
    "    print(\"Positive:\")\n",
    "    \n",
    "    for tweet in tweets_positive:\n",
    "        print(\"\\t\", sentiment_analyzer.predict(tweet))\n",
    "        \n",
    "    print(\"Negative:\")\n",
    "    for tweet in tweets_negative:\n",
    "        print(\"\\t\", sentiment_analyzer.predict(tweet))\n",
    "    print()"
   ]
  },
  {
   "cell_type": "markdown",
   "id": "f612c3be-a76e-4cde-9e02-6966fd05e1f6",
   "metadata": {},
   "source": [
    "# 2. Evaluate on hand-labelled tweets"
   ]
  },
  {
   "cell_type": "code",
   "execution_count": 5,
   "id": "0407aa42-1db7-46df-91b1-1df173be1401",
   "metadata": {},
   "outputs": [],
   "source": [
    "df = pd.read_csv(f\"{DATA_PATH}/twitter_sentiment_analysis.csv\")"
   ]
  },
  {
   "cell_type": "code",
   "execution_count": 17,
   "id": "8ebbf46f-87f7-495f-95fa-9170540b86fb",
   "metadata": {},
   "outputs": [],
   "source": [
    "predictions = defaultdict(list)\n",
    "labels = list()\n",
    "\n",
    "for idx, row in df.iterrows():\n",
    "    text = row['Text']\n",
    "    sentiment = row['Sentiment']\n",
    "    labels.append(sentiment)\n",
    "    \n",
    "    for name, sentiment_analyzer in sentiment_analyzers.items():\n",
    "        predictions[name].append(sentiment_analyzer.predict(text))\n",
    "    "
   ]
  },
  {
   "cell_type": "code",
   "execution_count": 33,
   "id": "4854bce7-7a81-4147-9947-81b60b3e0395",
   "metadata": {},
   "outputs": [],
   "source": [
    "def process_prediction(prediction):\n",
    "    sentiment = prediction[0]\n",
    "    score = prediction[1]\n",
    "    if sentiment == Sentiment.POSITIVE:\n",
    "        return 1\n",
    "    elif sentiment == Sentiment.NEGATIVE:\n",
    "        return 0\n",
    "    else:\n",
    "        return score > 0"
   ]
  },
  {
   "cell_type": "code",
   "execution_count": 34,
   "id": "7284cee0-296e-4d94-9b27-03f81acd6df2",
   "metadata": {},
   "outputs": [
    {
     "name": "stdout",
     "output_type": "stream",
     "text": [
      "Flair\n",
      " - F1:  0.667\n",
      " - Precision:  0.556\n",
      " - Recall:  0.833\n",
      " - Accuracy:  0.706\n",
      "Vader\n",
      " - F1:  0.457\n",
      " - Precision:  0.348\n",
      " - Recall:  0.667\n",
      " - Accuracy:  0.441\n"
     ]
    }
   ],
   "source": [
    "for model_name, model_predictions in predictions.items():\n",
    "    model_predictions = [process_prediction(pred) for pred in model_predictions]\n",
    "    \n",
    "    f1 = f1_score(labels, model_predictions)\n",
    "    precision = precision_score(labels, model_predictions)\n",
    "    recall = recall_score(labels, model_predictions)\n",
    "    accuracy = accuracy_score(labels, model_predictions)\n",
    "    \n",
    "    print(model_name)\n",
    "    print(f\" - F1: {f1: 0.3f}\")\n",
    "    print(f\" - Precision: {precision: 0.3f}\")\n",
    "    print(f\" - Recall: {recall: 0.3f}\")\n",
    "    print(f\" - Accuracy: {accuracy: 0.3f}\")"
   ]
  },
  {
   "cell_type": "code",
   "execution_count": null,
   "id": "1a77002d-1607-490b-a67c-33758d0784db",
   "metadata": {},
   "outputs": [],
   "source": [
    "f1_score()"
   ]
  }
 ],
 "metadata": {
  "kernelspec": {
   "display_name": "Python 3 (ipykernel)",
   "language": "python",
   "name": "python3"
  },
  "language_info": {
   "codemirror_mode": {
    "name": "ipython",
    "version": 3
   },
   "file_extension": ".py",
   "mimetype": "text/x-python",
   "name": "python",
   "nbconvert_exporter": "python",
   "pygments_lexer": "ipython3",
   "version": "3.8.12"
  }
 },
 "nbformat": 4,
 "nbformat_minor": 5
}
