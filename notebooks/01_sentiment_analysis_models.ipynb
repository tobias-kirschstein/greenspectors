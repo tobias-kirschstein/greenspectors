{
 "cells": [
  {
   "cell_type": "code",
   "execution_count": 7,
   "id": "2c861216-a399-4ed6-a34f-b8804b9f798b",
   "metadata": {},
   "outputs": [],
   "source": [
    "from greenspectors.models.flair import FlairSentimentAnalyzer\n",
    "from greenspectors.models.vader import VaderSentimentAnalyzer"
   ]
  },
  {
   "cell_type": "code",
   "execution_count": 16,
   "id": "ab9e87f3-d89f-48d7-b7b1-189e62fd8699",
   "metadata": {},
   "outputs": [
    {
     "name": "stdout",
     "output_type": "stream",
     "text": [
      "2021-10-15 19:13:49,497 loading file /home/tobias/.flair/models/sentiment-en-mix-distillbert_4.pt\n"
     ]
    },
    {
     "name": "stderr",
     "output_type": "stream",
     "text": [
      "[nltk_data] Downloading package vader_lexicon to\n",
      "[nltk_data]     /home/tobias/nltk_data...\n",
      "[nltk_data]   Package vader_lexicon is already up-to-date!\n"
     ]
    }
   ],
   "source": [
    "flair_sentiment_analyzer = FlairSentimentAnalyzer()\n",
    "vader_sentiment_analyzer = VaderSentimentAnalyzer()\n",
    "\n",
    "sentiment_analyzers = {\n",
    "    \"Flair\": flair_sentiment_analyzer, \n",
    "    \"Vader\": vader_sentiment_analyzer\n",
    "}"
   ]
  },
  {
   "cell_type": "code",
   "execution_count": null,
   "id": "2e3474c1-67b0-4cbc-bf27-f5f03fc8351a",
   "metadata": {},
   "outputs": [],
   "source": [
    "tweets_positive = [\n",
    "    \"\"\"Great panel discussion around the topic of #Sustainability and #netzero energy!Brilliant presentation and input from @OliviaWhitlam on #siemens sustainability strategy and journey to achieving netzero carbon.some key messages byall #collaboration #transition #trust #transparency\"\"\"\n",
    "]"
   ]
  },
  {
   "cell_type": "code",
   "execution_count": null,
   "id": "175673ba-3bae-4037-a3a6-cccaf0147cde",
   "metadata": {},
   "outputs": [],
   "source": [
    "tweets_negative = [\n",
    "    \"\"\"What a greenwash. Siemens are still helping Adani build a massive thermal coal mine in Australia. https://reuters.com/article/us-sie\"\"\",\n",
    "    \"\"\"Activists in Germany protest against new dams in the #Amazon. @Siemens: Green innovation, not Amazon destruction!\"\"\",\n",
    "    \"\"\"@Siemens u love green tech. and we love the Amazon. Innovation is not forest destruction.#saveTheAmazon #StopSiemens\"\"\"\n",
    "]"
   ]
  },
  {
   "cell_type": "code",
   "execution_count": 17,
   "id": "88ad7285-ad5d-4165-81df-64a03df78084",
   "metadata": {},
   "outputs": [
    {
     "name": "stdout",
     "output_type": "stream",
     "text": [
      "========================\n",
      "Flair\n",
      "========================\n",
      "Positive:\n",
      "\t (<Sentiment.POSITIVE: 1>, 0.9973779916763306)\n",
      "Negative:\n",
      "\t (<Sentiment.NEGATIVE: 3>, -0.6935323476791382)\n",
      "\t (<Sentiment.POSITIVE: 1>, 0.6526410579681396)\n",
      "\t (<Sentiment.POSITIVE: 1>, 0.9387254118919373)\n",
      "\n",
      "========================\n",
      "Vader\n",
      "========================\n",
      "Positive:\n",
      "\t (<Sentiment.POSITIVE: 1>, 0.6588)\n",
      "Negative:\n",
      "\t (<Sentiment.NEUTRAL: 2>, -0.1531)\n",
      "\t (<Sentiment.POSITIVE: 1>, 0.5223)\n",
      "\t (<Sentiment.POSITIVE: 1>, 0.9136)\n",
      "\n"
     ]
    }
   ],
   "source": [
    "for analyzer_name, sentiment_analyzer in sentiment_analyzers.items():\n",
    "    print(\"========================\")\n",
    "    print(analyzer_name)\n",
    "    print(\"========================\")\n",
    "    print(\"Positive:\")\n",
    "    \n",
    "    for tweet in tweets_positive:\n",
    "        print(\"\\t\", sentiment_analyzer.predict(tweet))\n",
    "        \n",
    "    print(\"Negative:\")\n",
    "    for tweet in tweets_negative:\n",
    "        print(\"\\t\", sentiment_analyzer.predict(tweet))\n",
    "    print()"
   ]
  }
 ],
 "metadata": {
  "kernelspec": {
   "display_name": "Python 3 (ipykernel)",
   "language": "python",
   "name": "python3"
  },
  "language_info": {
   "codemirror_mode": {
    "name": "ipython",
    "version": 3
   },
   "file_extension": ".py",
   "mimetype": "text/x-python",
   "name": "python",
   "nbconvert_exporter": "python",
   "pygments_lexer": "ipython3",
   "version": "3.8.12"
  }
 },
 "nbformat": 4,
 "nbformat_minor": 5
}
